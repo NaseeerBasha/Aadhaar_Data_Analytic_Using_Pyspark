{
  "nbformat": 4,
  "nbformat_minor": 0,
  "metadata": {
    "colab": {
      "name": "Aadhaar_Data_Analytic_Using_Pyspark.ipynb",
      "provenance": [],
      "collapsed_sections": []
    },
    "kernelspec": {
      "name": "python3",
      "display_name": "Python 3"
    },
    "language_info": {
      "name": "python"
    }
  },
  "cells": [
    {
      "cell_type": "markdown",
      "source": [
        "# Aadhaar Data Analytic Project Using Pyspark"
      ],
      "metadata": {
        "id": "qLeTqkBPP6dm"
      }
    },
    {
      "cell_type": "code",
      "execution_count": 1,
      "metadata": {
        "colab": {
          "base_uri": "https://localhost:8080/"
        },
        "id": "0Xw3wDf3Vdz2",
        "outputId": "590a4325-b37a-4bcf-b9b3-0a7f4511b418"
      },
      "outputs": [
        {
          "output_type": "stream",
          "name": "stdout",
          "text": [
            "Looking in indexes: https://pypi.org/simple, https://us-python.pkg.dev/colab-wheels/public/simple/\n",
            "Requirement already satisfied: pyspark in /usr/local/lib/python3.7/dist-packages (3.3.0)\n",
            "Requirement already satisfied: py4j==0.10.9.5 in /usr/local/lib/python3.7/dist-packages (from pyspark) (0.10.9.5)\n"
          ]
        }
      ],
      "source": [
        "pip install pyspark    # install pyspark library"
      ]
    },
    {
      "cell_type": "code",
      "source": [
        "# initializing pyspark libraries\n",
        "from pyspark.sql import SparkSession     # an entry point to PySpark           \n",
        "\n",
        "spark = SparkSession.builder.appName('Assignment').getOrCreate()   # i.e creation of spark session\n",
        " "
      ],
      "metadata": {
        "id": "sDOBsHn_VqXO"
      },
      "execution_count": 2,
      "outputs": []
    },
    {
      "cell_type": "code",
      "source": [
        "adhaar_df = spark.read.format(\"csv\").option(\"header\", \"true\").option(\"inferSchema\",\"true\").load(\"/content/UIDAI-ENR-DETAIL-20170308.csv\")  # create dataframe from csv file"
      ],
      "metadata": {
        "id": "7y7R1VkiYJv5"
      },
      "execution_count": 3,
      "outputs": []
    },
    {
      "cell_type": "code",
      "source": [
        "adhaar_df.show(5)"
      ],
      "metadata": {
        "colab": {
          "base_uri": "https://localhost:8080/"
        },
        "id": "Wt38pSE-T6Dl",
        "outputId": "5babf51b-64dc-49e0-f57c-a4450e103fa5"
      },
      "execution_count": 5,
      "outputs": [
        {
          "output_type": "stream",
          "name": "stdout",
          "text": [
            "+--------------+--------------------+-------------+---------+------------+--------+------+---+-----------------+------------------+-------------------------+---------------------------------+\n",
            "|     Registrar|    Enrolment Agency|        State| District|Sub District|Pin Code|Gender|Age|Aadhaar generated|Enrolment Rejected|Residents providing email|Residents providing mobile number|\n",
            "+--------------+--------------------+-------------+---------+------------+--------+------+---+-----------------+------------------+-------------------------+---------------------------------+\n",
            "|Allahabad Bank|A-Onerealtors Pvt...|Uttar Pradesh|Allahabad|        Meja|  212303|     F|  7|                1|                 0|                        0|                                1|\n",
            "|Allahabad Bank|Asha Security Gua...|Uttar Pradesh|Sonbhadra| Robertsganj|  231213|     M|  8|                1|                 0|                        0|                                0|\n",
            "|Allahabad Bank|   SGS INDIA PVT LTD|Uttar Pradesh|Sultanpur|   Sultanpur|  227812|     F| 13|                1|                 0|                        0|                                1|\n",
            "|Allahabad Bank|Sri Ramraja Sarka...|Uttar Pradesh|   Shamli|      Shamli|  247775|     M|  6|                1|                 0|                        0|                                1|\n",
            "|Allahabad Bank|  Transmoovers India|Uttar Pradesh|Gorakhpur|    Sahjanwa|  273001|     M|  8|                1|                 0|                        0|                                1|\n",
            "+--------------+--------------------+-------------+---------+------------+--------+------+---+-----------------+------------------+-------------------------+---------------------------------+\n",
            "only showing top 5 rows\n",
            "\n"
          ]
        }
      ]
    },
    {
      "cell_type": "markdown",
      "source": [
        "###Q1.Create a dataframe with Total Aadhaar's generated for each state"
      ],
      "metadata": {
        "id": "pzPV_8qmQW2S"
      }
    },
    {
      "cell_type": "code",
      "source": [
        "aadhaar_filtered = adhaar_df.filter(adhaar_df[\"Aadhaar generated\"]>=1)   # filtering  data by addhar generated column greater than 1\n",
        "df1 = aadhaar_filtered.groupBy(\"State\").sum(\"Aadhaar generated\") # create dataframe using groupby function and sum function to get total Aadhaar generated for each state\n",
        "df1.show() # show dataframe"
      ],
      "metadata": {
        "colab": {
          "base_uri": "https://localhost:8080/"
        },
        "id": "XZg4jZc-bTQn",
        "outputId": "98693efb-ebd1-4fac-a10c-a7e4cd6145aa"
      },
      "execution_count": 6,
      "outputs": [
        {
          "output_type": "stream",
          "name": "stdout",
          "text": [
            "+--------------------+----------------------+\n",
            "|               State|sum(Aadhaar generated)|\n",
            "+--------------------+----------------------+\n",
            "|            Nagaland|                   545|\n",
            "|           Karnataka|                 19764|\n",
            "|              Odisha|                 18182|\n",
            "|              Kerala|                 15143|\n",
            "|          Tamil Nadu|                 32485|\n",
            "|        Chhattisgarh|                  6604|\n",
            "|      Andhra Pradesh|                  5798|\n",
            "|      Madhya Pradesh|                 53276|\n",
            "|              Punjab|                  6506|\n",
            "|             Manipur|                  1323|\n",
            "|                 Goa|                  1167|\n",
            "|             Mizoram|                  6279|\n",
            "|Dadra and Nagar H...|                   140|\n",
            "|    Himachal Pradesh|                  1547|\n",
            "|          Puducherry|                    83|\n",
            "|             Haryana|                  6804|\n",
            "|   Jammu and Kashmir|                  1234|\n",
            "|           Jharkhand|                  9868|\n",
            "|   Arunachal Pradesh|                   913|\n",
            "|             Gujarat|                 34844|\n",
            "+--------------------+----------------------+\n",
            "only showing top 20 rows\n",
            "\n"
          ]
        }
      ]
    },
    {
      "cell_type": "markdown",
      "source": [
        "Above dataframe with Total Aadhaar's generated for each state"
      ],
      "metadata": {
        "id": "fHndWTV9U3IZ"
      }
    },
    {
      "cell_type": "markdown",
      "source": [
        "###Q2. Create a dataframe with Total Aadhaar's generated by each enrollment agency"
      ],
      "metadata": {
        "id": "semdr0M0Qlwh"
      }
    },
    {
      "cell_type": "code",
      "source": [
        "df2 = aadhaar_filtered.groupBy(\"Enrolment Agency\").sum(\"Aadhaar generated\") # # create dataframe using groupby function and sum functon to get total Aadhaar generated for each Enrolment agency\n",
        "df2.show() # show dataframe"
      ],
      "metadata": {
        "colab": {
          "base_uri": "https://localhost:8080/"
        },
        "id": "rAmfCmYacnio",
        "outputId": "cd954874-2023-420f-f744-87677e2887b3"
      },
      "execution_count": 7,
      "outputs": [
        {
          "output_type": "stream",
          "name": "stdout",
          "text": [
            "+--------------------+----------------------+\n",
            "|    Enrolment Agency|sum(Aadhaar generated)|\n",
            "+--------------------+----------------------+\n",
            "|Raj Construction Co.|                   532|\n",
            "|      CO JOMLO MOBUK|                     8|\n",
            "|NPS Technologies ...|                  9692|\n",
            "|    APOnline Limited|                   305|\n",
            "|  Transmoovers India|                     5|\n",
            "|Zephyr System Pvt...|                  6946|\n",
            "|          ADC BOLENG|                     2|\n",
            "|Emdee Digitronics...|                  2078|\n",
            "|Netlink software ...|                  4832|\n",
            "|     DSO STAT NAMSAI|                    50|\n",
            "|Estex Telecom Pvt...|                  1894|\n",
            "|Squaria Global In...|                  1368|\n",
            "|EAC OFFICE KAYING...|                    21|\n",
            "|IAP COMPANY Pvt. Ltd|                 10644|\n",
            "|Prakash Computer ...|                  2817|\n",
            "|      CDPO Tezu ICDS|                    66|\n",
            "|       APEX Services|                   109|\n",
            "|Synapses Solution...|                  2843|\n",
            "|Yashi Informatics...|                     5|\n",
            "|HyperSoft Technol...|                    33|\n",
            "+--------------------+----------------------+\n",
            "only showing top 20 rows\n",
            "\n"
          ]
        }
      ]
    },
    {
      "cell_type": "markdown",
      "source": [
        "Above , dataframe with Total Aadhaar's generated by each enrollment agency"
      ],
      "metadata": {
        "id": "77OVaT6FUsjr"
      }
    },
    {
      "cell_type": "markdown",
      "source": [
        "###Q3. Create dataframe with top 10 districts with maximum Aadhaar's generated for both Male and Female?"
      ],
      "metadata": {
        "id": "pSKG3hwpQzc7"
      }
    },
    {
      "cell_type": "code",
      "source": [
        "import pyspark.sql.functions as f      # import pyspark sql functions\n",
        "df3 = aadhaar_filtered.groupBy(\"District\",\"Gender\").sum(\"Aadhaar generated\") # use group by function \n",
        "\n",
        "male_data = df3.filter(df3[\"Gender\"] == \"M\")  # filter gender column with male\n",
        "male_top10 = male_data.orderBy(f.desc(\"sum(Aadhaar generated)\")).limit(10) # use limit for top 10 and use order by for max addhar generated\n",
        "male_top10.show() # show dataframe\n",
        " \n",
        "female_data = df3.filter(df3[\"Gender\"] == \"F\")  # filter gender column with female\n",
        "female_top10 = female_data.orderBy(f.desc(\"sum(Aadhaar generated)\")).limit(10) #use limit for top 10 and use order by for max addhar generated\n",
        "female_top10.show() # show dataframe"
      ],
      "metadata": {
        "id": "tFfCNX6dc_uo",
        "colab": {
          "base_uri": "https://localhost:8080/"
        },
        "outputId": "50bfc5e6-529b-4657-e7f2-bb7a2a5910ff"
      },
      "execution_count": 8,
      "outputs": [
        {
          "output_type": "stream",
          "name": "stdout",
          "text": [
            "+-----------------+------+----------------------+\n",
            "|         District|Gender|sum(Aadhaar generated)|\n",
            "+-----------------+------+----------------------+\n",
            "|        Bhagalpur|     M|                 11007|\n",
            "|South 24 Parganas|     M|                  7825|\n",
            "|          Katihar|     M|                  6968|\n",
            "|      Murshidabad|     M|                  6808|\n",
            "|       Samastipur|     M|                  6195|\n",
            "|            Patna|     M|                  6191|\n",
            "|       Barddhaman|     M|                  6077|\n",
            "|             Gaya|     M|                  5959|\n",
            "|           Munger|     M|                  5781|\n",
            "|            Nadia|     M|                  5509|\n",
            "+-----------------+------+----------------------+\n",
            "\n",
            "+-----------------+------+----------------------+\n",
            "|         District|Gender|sum(Aadhaar generated)|\n",
            "+-----------------+------+----------------------+\n",
            "|       Barddhaman|     F|                  9744|\n",
            "|South 24 Parganas|     F|                  8382|\n",
            "|North 24 Parganas|     F|                  6108|\n",
            "|             Gaya|     F|                  4796|\n",
            "|       Jalpaiguri|     F|                  4428|\n",
            "|Paschim Medinipur|     F|                  3965|\n",
            "|           Howrah|     F|                  3516|\n",
            "|        Bhagalpur|     F|                  3472|\n",
            "|           Budaun|     F|                  2905|\n",
            "|            Banka|     F|                  2882|\n",
            "+-----------------+------+----------------------+\n",
            "\n"
          ]
        }
      ]
    },
    {
      "cell_type": "markdown",
      "source": [
        "Above, dataframe with top 10 districts with maximum Aadhaar's generated for both Male and Female"
      ],
      "metadata": {
        "id": "7Wpi2LL8UfMA"
      }
    },
    {
      "cell_type": "markdown",
      "source": [
        "###Q4. Create a dataframe with Total Aadhaar's generated for top 10 least state"
      ],
      "metadata": {
        "id": "ue4v0CoxRIvB"
      }
    },
    {
      "cell_type": "code",
      "source": [
        "df1 = aadhaar_filtered.groupBy(\"State\").sum(\"Aadhaar generated\") # create dataframe using groupby function and sum function to get total Aadhaar generated for each state\n",
        "df2 = df1.orderBy(f.asc(\"sum(Aadhaar generated)\")).limit(10) # create datadrame using order by function in ascending for least state\n",
        "df2.show() # show dataframe"
      ],
      "metadata": {
        "colab": {
          "base_uri": "https://localhost:8080/"
        },
        "id": "u25oR6QaNJKh",
        "outputId": "5dbcae21-d726-48b2-a717-5f5e661abd40"
      },
      "execution_count": 9,
      "outputs": [
        {
          "output_type": "stream",
          "name": "stdout",
          "text": [
            "+--------------------+----------------------+\n",
            "|               State|sum(Aadhaar generated)|\n",
            "+--------------------+----------------------+\n",
            "|         Lakshadweep|                     4|\n",
            "|Andaman and Nicob...|                     5|\n",
            "|              Others|                    12|\n",
            "|              Sikkim|                    50|\n",
            "|          Puducherry|                    83|\n",
            "|       Daman and Diu|                   105|\n",
            "|Dadra and Nagar H...|                   140|\n",
            "|          Chandigarh|                   259|\n",
            "|           Meghalaya|                   277|\n",
            "|            Nagaland|                   545|\n",
            "+--------------------+----------------------+\n",
            "\n"
          ]
        }
      ]
    },
    {
      "cell_type": "markdown",
      "source": [
        "Above dataframe with Total Aadhaar's generated for top 10 least state"
      ],
      "metadata": {
        "id": "VNyzVTg_UOrK"
      }
    },
    {
      "cell_type": "markdown",
      "source": [
        "### Q5. Find the states and their number of  adhaar no generated ?\n"
      ],
      "metadata": {
        "id": "60MCnAh8Sx0D"
      }
    },
    {
      "cell_type": "code",
      "source": [
        "notgented_aadhaar = adhaar_df.filter(adhaar_df[\"Aadhaar generated\"]< 1) # filter Aadhaar generated column for not generating aadhaar \n",
        "res1 = notgented_aadhaar.groupBy(\"State\").count()  # counting for not generating aadhaar\n",
        "df5 = res1.orderBy(f.desc(\"count\")).limit(10) # create dataframe for most adhaar declined using order by in descending order\n",
        "df5.show() # show dataframe"
      ],
      "metadata": {
        "colab": {
          "base_uri": "https://localhost:8080/"
        },
        "id": "_tKcMV9FIocv",
        "outputId": "8440d0f2-cf01-43e0-da67-c4b0c2f45eb9"
      },
      "execution_count": 11,
      "outputs": [
        {
          "output_type": "stream",
          "name": "stdout",
          "text": [
            "+--------------+-----+\n",
            "|         State|count|\n",
            "+--------------+-----+\n",
            "|         Bihar| 2982|\n",
            "| Uttar Pradesh| 2854|\n",
            "|   West Bengal| 2770|\n",
            "|Madhya Pradesh| 1654|\n",
            "|     Rajasthan| 1143|\n",
            "|   Maharashtra| 1117|\n",
            "|       Gujarat| 1087|\n",
            "|     Karnataka| 1025|\n",
            "|        Odisha|  860|\n",
            "|    Tamil Nadu|  776|\n",
            "+--------------+-----+\n",
            "\n"
          ]
        }
      ]
    },
    {
      "cell_type": "markdown",
      "source": [
        "Above dataframe where states and their number of aadhaar not generated"
      ],
      "metadata": {
        "id": "RpDTY-wyTztC"
      }
    },
    {
      "cell_type": "markdown",
      "source": [
        "### Q6. Find the ages whose Enrolment rejected ?"
      ],
      "metadata": {
        "id": "C3csHVEXRmx_"
      }
    },
    {
      "cell_type": "code",
      "source": [
        "# Grouping by Age\n",
        "Enr_rej= adhaar_df.groupby(\"Age\").sum(\"Enrolment Rejected\").orderBy(f.desc(\"sum(Enrolment Rejected)\"))\n",
        "# count_by_age.withColumnRenamed(\"sum(Enrolment Rejected)\",\"Total Enrolment Rejected\").show(15)\n",
        "Enr_rej.show()"
      ],
      "metadata": {
        "id": "WWZ_Z-11ULsc",
        "colab": {
          "base_uri": "https://localhost:8080/"
        },
        "outputId": "145b791c-a6ea-4848-d846-3fcbb63fb255"
      },
      "execution_count": 13,
      "outputs": [
        {
          "output_type": "stream",
          "name": "stdout",
          "text": [
            "+---+-----------------------+\n",
            "|Age|sum(Enrolment Rejected)|\n",
            "+---+-----------------------+\n",
            "|  4|                   5673|\n",
            "|  3|                   3842|\n",
            "|  2|                   3372|\n",
            "|  1|                   3333|\n",
            "|  0|                   3219|\n",
            "|  5|                   2208|\n",
            "|  6|                   1931|\n",
            "|  7|                   1572|\n",
            "|  8|                   1357|\n",
            "|  9|                    980|\n",
            "| 10|                    920|\n",
            "| 11|                    604|\n",
            "| 12|                    560|\n",
            "| 13|                    406|\n",
            "| 18|                    384|\n",
            "| 14|                    348|\n",
            "| 22|                    329|\n",
            "| 20|                    318|\n",
            "| 21|                    300|\n",
            "| 25|                    293|\n",
            "+---+-----------------------+\n",
            "only showing top 20 rows\n",
            "\n"
          ]
        }
      ]
    },
    {
      "cell_type": "markdown",
      "source": [
        "Above ages and their sum whose enrolment rejected"
      ],
      "metadata": {
        "id": "PpbSSEmmyLSC"
      }
    },
    {
      "cell_type": "markdown",
      "source": [
        "### Q7. Find the ages whose adhaar not generated ?"
      ],
      "metadata": {
        "id": "PolGUROUPLz3"
      }
    },
    {
      "cell_type": "code",
      "source": [
        "notgented_aadhaar = adhaar_df.filter(adhaar_df[\"Aadhaar generated\"]< 1) # filter Aadhaar generated column for not generating aadhaar \n",
        "res3 = notgented_aadhaar.groupBy(\"Age\").count()  # counting for not generating aadhaar\n",
        "df7 = res3.orderBy(f.desc(\"count\")) # create dataframe for most adhaar declined using order by in descending order\n",
        "df7.show(100) # show dataframe"
      ],
      "metadata": {
        "colab": {
          "base_uri": "https://localhost:8080/"
        },
        "id": "mlca4Fs1Aiyz",
        "outputId": "32fae961-7a34-4622-9856-608f9d76259f"
      },
      "execution_count": 15,
      "outputs": [
        {
          "output_type": "stream",
          "name": "stdout",
          "text": [
            "+---+-----+\n",
            "|Age|count|\n",
            "+---+-----+\n",
            "|  4| 1729|\n",
            "|  3| 1492|\n",
            "|  2| 1389|\n",
            "|  1| 1294|\n",
            "|  0| 1087|\n",
            "|  5|  863|\n",
            "|  6|  794|\n",
            "|  7|  724|\n",
            "|  8|  612|\n",
            "|  9|  529|\n",
            "| 10|  500|\n",
            "| 11|  403|\n",
            "| 12|  344|\n",
            "| 13|  298|\n",
            "| 18|  283|\n",
            "| 22|  269|\n",
            "| 20|  259|\n",
            "| 14|  254|\n",
            "| 25|  251|\n",
            "| 21|  235|\n",
            "| 19|  231|\n",
            "| 23|  223|\n",
            "| 15|  217|\n",
            "| 24|  212|\n",
            "| 27|  203|\n",
            "| 30|  194|\n",
            "| 16|  194|\n",
            "| 26|  193|\n",
            "| 28|  190|\n",
            "| 17|  180|\n",
            "| 29|  152|\n",
            "| 35|  151|\n",
            "| 32|  150|\n",
            "| 31|  131|\n",
            "| 45|  117|\n",
            "| 60|  116|\n",
            "| 34|  110|\n",
            "| 40|  103|\n",
            "| 62|  102|\n",
            "| 33|  101|\n",
            "| 70|  100|\n",
            "| 65|   97|\n",
            "| 67|   92|\n",
            "| 41|   91|\n",
            "| 36|   87|\n",
            "| 37|   84|\n",
            "| 50|   83|\n",
            "| 38|   82|\n",
            "| 51|   82|\n",
            "| 39|   81|\n",
            "| 47|   77|\n",
            "| 55|   72|\n",
            "| 42|   72|\n",
            "| 52|   70|\n",
            "| 48|   68|\n",
            "| 46|   65|\n",
            "| 61|   64|\n",
            "| 57|   61|\n",
            "| 66|   61|\n",
            "| 58|   60|\n",
            "| 44|   59|\n",
            "| 72|   59|\n",
            "| 43|   58|\n",
            "| 64|   56|\n",
            "| 56|   53|\n",
            "| 71|   53|\n",
            "| 68|   53|\n",
            "| 63|   51|\n",
            "| 54|   51|\n",
            "| 59|   50|\n",
            "| 49|   48|\n",
            "| 69|   43|\n",
            "| 77|   42|\n",
            "| 73|   40|\n",
            "| 74|   39|\n",
            "| 53|   38|\n",
            "| 75|   37|\n",
            "| 80|   32|\n",
            "| 76|   31|\n",
            "| 78|   22|\n",
            "| 79|   19|\n",
            "| 82|   12|\n",
            "| 84|    5|\n",
            "| 86|    4|\n",
            "| 88|    4|\n",
            "| 87|    3|\n",
            "| 83|    3|\n",
            "| 85|    2|\n",
            "| 81|    2|\n",
            "| 92|    1|\n",
            "|100|    1|\n",
            "| 89|    1|\n",
            "+---+-----+\n",
            "\n"
          ]
        }
      ]
    },
    {
      "cell_type": "markdown",
      "source": [
        "Above ages and number whose adhaar not generated."
      ],
      "metadata": {
        "id": "bIpOJ6c1RPIu"
      }
    }
  ]
}